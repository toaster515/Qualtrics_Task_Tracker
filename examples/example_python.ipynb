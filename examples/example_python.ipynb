{
 "cells": [
  {
   "cell_type": "code",
   "execution_count": 3,
   "id": "2db34ac9",
   "metadata": {},
   "outputs": [],
   "source": [
    "import json\n",
    "import csv\n",
    "import os"
   ]
  },
  {
   "cell_type": "code",
   "execution_count": 58,
   "id": "996b050f",
   "metadata": {},
   "outputs": [],
   "source": [
    "# Load in results file\n",
    "test_file = os.path.normpath(\"C:/path/to/test_result.csv\")\n",
    "with open(test_file, 'r') as f:\n",
    "    reader = csv.DictReader(f)\n",
    "    data = []\n",
    "    for row in reader:\n",
    "        data.append(row)\n",
    "\n",
    "# Remove first 2 rows of Qualtrics jibberish\n",
    "data = data[2:]"
   ]
  },
  {
   "cell_type": "code",
   "execution_count": 78,
   "id": "b282975a",
   "metadata": {},
   "outputs": [
    {
     "data": {
      "text/plain": [
       "'D:\\\\Julia\\\\Qualtrics_TaskTracking\\\\test_result.csv'"
      ]
     },
     "execution_count": 78,
     "metadata": {},
     "output_type": "execute_result"
    }
   ],
   "source": [
    "test_file"
   ]
  },
  {
   "cell_type": "markdown",
   "id": "079b714a",
   "metadata": {},
   "source": [
    "## Example totals"
   ]
  },
  {
   "cell_type": "code",
   "execution_count": 60,
   "id": "3fc96ae2",
   "metadata": {},
   "outputs": [],
   "source": [
    "example = json.loads(data[0]['task_tracker'])"
   ]
  },
  {
   "cell_type": "code",
   "execution_count": 61,
   "id": "b11e558d",
   "metadata": {},
   "outputs": [
    {
     "data": {
      "text/plain": [
       "['start_time',\n",
       " 'offTask_check',\n",
       " 'onTask_check',\n",
       " 'check_points',\n",
       " 'page_check',\n",
       " 'log']"
      ]
     },
     "execution_count": 61,
     "metadata": {},
     "output_type": "execute_result"
    }
   ],
   "source": [
    "list(example.keys())"
   ]
  },
  {
   "cell_type": "code",
   "execution_count": 36,
   "id": "0be9145e",
   "metadata": {
    "scrolled": true
   },
   "outputs": [
    {
     "data": {
      "text/plain": [
       "[{'event': 'start', 'time_check': 1716996284016},\n",
       " {'event': 'exit',\n",
       "  'time_check': 1716996287629,\n",
       "  'last_check': 1716996284016,\n",
       "  'duration': 3.613,\n",
       "  'duration_type': 'on_task',\n",
       "  'page': 1},\n",
       " {'event': 'enter',\n",
       "  'time_check': 1716996289296,\n",
       "  'last_check': 1716996287629,\n",
       "  'duration': 1.667,\n",
       "  'duration_type': 'off_task',\n",
       "  'page': 1}]"
      ]
     },
     "execution_count": 36,
     "metadata": {},
     "output_type": "execute_result"
    }
   ],
   "source": [
    "example['log'][:3]"
   ]
  },
  {
   "cell_type": "code",
   "execution_count": 43,
   "id": "5a383411",
   "metadata": {},
   "outputs": [],
   "source": [
    "total_on = sum([item['duration'] for item in example['log'][1:] if item['duration_type']=='off_task'])\n",
    "total_off = sum([item['duration'] for item in example['log'][1:] if item['duration_type']=='on_task'])"
   ]
  },
  {
   "cell_type": "code",
   "execution_count": 44,
   "id": "09cc1402",
   "metadata": {},
   "outputs": [
    {
     "data": {
      "text/plain": [
       "27.603"
      ]
     },
     "execution_count": 44,
     "metadata": {},
     "output_type": "execute_result"
    }
   ],
   "source": [
    "total_on"
   ]
  },
  {
   "cell_type": "code",
   "execution_count": 45,
   "id": "6c060e6d",
   "metadata": {},
   "outputs": [
    {
     "data": {
      "text/plain": [
       "85.542"
      ]
     },
     "execution_count": 45,
     "metadata": {},
     "output_type": "execute_result"
    }
   ],
   "source": [
    "total_off"
   ]
  },
  {
   "cell_type": "markdown",
   "id": "20328636",
   "metadata": {},
   "source": [
    "## Check Point totals"
   ]
  },
  {
   "cell_type": "code",
   "execution_count": 51,
   "id": "5c3c0c71",
   "metadata": {},
   "outputs": [],
   "source": [
    "b1_off = sum([item['duration'] for item in example['check_points']['B1Q1'] if item['duration_type']=='off_task'])"
   ]
  },
  {
   "cell_type": "code",
   "execution_count": 52,
   "id": "6c8e24a9",
   "metadata": {},
   "outputs": [
    {
     "data": {
      "text/plain": [
       "8.844"
      ]
     },
     "execution_count": 52,
     "metadata": {},
     "output_type": "execute_result"
    }
   ],
   "source": [
    "b1_off"
   ]
  },
  {
   "cell_type": "markdown",
   "id": "e53356a3",
   "metadata": {},
   "source": [
    "# Example csv generation"
   ]
  },
  {
   "cell_type": "code",
   "execution_count": 77,
   "id": "0860450d",
   "metadata": {},
   "outputs": [],
   "source": [
    "task_results=[]\n",
    "for d in data:\n",
    "    task_tracker = json.loads(d['task_tracker'])\n",
    "    log = task_tracker['log'][1:]\n",
    "    total_off = round(sum([item['duration'] for item in log if item['duration_type']=='off_task']),2)\n",
    "    total_on = round(sum([item['duration'] for item in log if item['duration_type']=='on_task']),2)\n",
    "    \n",
    "    row={'id':d['ResponseId'],\n",
    "        'on_task':total_on,\n",
    "        'off_task':total_off}\n",
    "\n",
    "    task_results.append(row)"
   ]
  },
  {
   "cell_type": "code",
   "execution_count": 79,
   "id": "856c2f21",
   "metadata": {},
   "outputs": [
    {
     "data": {
      "text/plain": [
       "'D:\\\\Julia\\\\Qualtrics_TaskTracking\\\\task_results.csv'"
      ]
     },
     "execution_count": 79,
     "metadata": {},
     "output_type": "execute_result"
    }
   ],
   "source": [
    "save_file"
   ]
  },
  {
   "cell_type": "code",
   "execution_count": 76,
   "id": "384f7f4e",
   "metadata": {},
   "outputs": [],
   "source": [
    "# save_file = os.path.join(tinytoast, \"Julia\",'Qualtrics_TaskTracking','task_results.csv')\n",
    "save_file = os.path.normpath(\"C:/path/to/task_results_python.csv\")\n",
    "with open(save_file, 'w', newline='') as f:\n",
    "    writer = csv.DictWriter(f, fieldnames=list(task_results[0].keys()))\n",
    "    writer.writeheader()\n",
    "    for row in task_results:\n",
    "        writer.writerow(row)"
   ]
  },
  {
   "cell_type": "code",
   "execution_count": null,
   "id": "b86b25ba",
   "metadata": {},
   "outputs": [],
   "source": []
  }
 ],
 "metadata": {
  "kernelspec": {
   "display_name": "Python 3 (ipykernel)",
   "language": "python",
   "name": "python3"
  },
  "language_info": {
   "codemirror_mode": {
    "name": "ipython",
    "version": 3
   },
   "file_extension": ".py",
   "mimetype": "text/x-python",
   "name": "python",
   "nbconvert_exporter": "python",
   "pygments_lexer": "ipython3",
   "version": "3.10.9"
  }
 },
 "nbformat": 4,
 "nbformat_minor": 5
}
